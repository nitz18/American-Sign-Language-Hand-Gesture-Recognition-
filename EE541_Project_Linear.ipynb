{
  "cells": [
    {
      "cell_type": "code",
      "execution_count": null,
      "metadata": {
        "id": "r-rWjgps156Q"
      },
      "outputs": [],
      "source": [
        "!pip install opendatasets --upgrade --quiet"
      ]
    },
    {
      "cell_type": "code",
      "execution_count": null,
      "metadata": {
        "id": "8hhFpX0H2CM5"
      },
      "outputs": [],
      "source": [
        "from torch.utils.data import DataLoader\n",
        "from torch.utils.data import random_split\n",
        "from torchvision.datasets import ImageFolder\n",
        "import opendatasets as od\n",
        "import os \n",
        "import shutil\n",
        "import torch\n",
        "import torchvision.transforms as tt\n",
        "from torch.autograd import Variable\n",
        "import torch.nn as nn\n",
        "import torch.nn.functional as F\n",
        "import torch.optim as optim\n",
        "import torchvision.transforms as transforms\n",
        "import torchvision.datasets as datasets\n",
        "import torch.nn.functional as F\n",
        "import numpy as np\n",
        "import matplotlib.pyplot as plt\n",
        "import torch.utils.data as td\n",
        "import random, time\n",
        "from tqdm import tqdm\n",
        "from sklearn.metrics import confusion_matrix\n",
        "import pandas as pd\n",
        "import seaborn as sns\n",
        "import matplotlib.pyplot as plt"
      ]
    },
    {
      "cell_type": "code",
      "execution_count": null,
      "metadata": {
        "id": "Fls_0jzq2F92"
      },
      "outputs": [],
      "source": [
        "dataset_url = 'https://www.kaggle.com/grassknoted/asl-alphabet'"
      ]
    },
    {
      "cell_type": "code",
      "execution_count": null,
      "metadata": {
        "id": "qvH0rfq62Ia_"
      },
      "outputs": [],
      "source": [
        "if os.path.exists('./asl-alphabet'):\n",
        "  shutil.rmtree('./asl-alphabet')"
      ]
    },
    {
      "cell_type": "code",
      "execution_count": null,
      "metadata": {
        "colab": {
          "base_uri": "https://localhost:8080/"
        },
        "id": "qi8gPQ3G2MLr",
        "outputId": "2a345240-83e1-488c-c77f-0ea72af31892"
      },
      "outputs": [
        {
          "output_type": "stream",
          "name": "stdout",
          "text": [
            "Please provide your Kaggle credentials to download this dataset. Learn more: http://bit.ly/kaggle-creds\n",
            "Your Kaggle username: nithyashreem\n",
            "Your Kaggle Key: ··········\n",
            "Downloading asl-alphabet.zip to ./asl-alphabet\n"
          ]
        },
        {
          "output_type": "stream",
          "name": "stderr",
          "text": [
            "100%|██████████| 1.03G/1.03G [00:28<00:00, 38.6MB/s]\n"
          ]
        },
        {
          "output_type": "stream",
          "name": "stdout",
          "text": [
            "\n"
          ]
        }
      ],
      "source": [
        "od.download(dataset_url)"
      ]
    },
    {
      "cell_type": "code",
      "execution_count": null,
      "metadata": {
        "id": "KYczcBa32Phk"
      },
      "outputs": [],
      "source": [
        "data_directory = './asl-alphabet/asl_alphabet_train/asl_alphabet_train'"
      ]
    },
    {
      "cell_type": "code",
      "execution_count": null,
      "metadata": {
        "colab": {
          "base_uri": "https://localhost:8080/"
        },
        "id": "EHBz0Jis2QW7",
        "outputId": "488e4524-67b3-4b05-da45-76d866805a5f"
      },
      "outputs": [
        {
          "output_type": "execute_result",
          "data": {
            "text/plain": [
              "['K',\n",
              " 'Q',\n",
              " 'J',\n",
              " 'H',\n",
              " 'del',\n",
              " 'P',\n",
              " 'I',\n",
              " 'L',\n",
              " 'space',\n",
              " 'nothing',\n",
              " 'E',\n",
              " 'O',\n",
              " 'V',\n",
              " 'D',\n",
              " 'S',\n",
              " 'Y',\n",
              " 'T',\n",
              " 'Z',\n",
              " 'M',\n",
              " 'C',\n",
              " 'F',\n",
              " 'B',\n",
              " 'X',\n",
              " 'G',\n",
              " 'N',\n",
              " 'W',\n",
              " 'R',\n",
              " 'A',\n",
              " 'U']"
            ]
          },
          "metadata": {},
          "execution_count": 7
        }
      ],
      "source": [
        "os.listdir(data_directory)"
      ]
    },
    {
      "cell_type": "code",
      "execution_count": null,
      "metadata": {
        "id": "vgVVq4YX3r1w"
      },
      "outputs": [],
      "source": [
        "# train_data = ImageFolder(data_directory)"
      ]
    },
    {
      "cell_type": "code",
      "execution_count": null,
      "metadata": {
        "id": "9QqVNiblV60Y"
      },
      "outputs": [],
      "source": [
        "train_data = ImageFolder(data_directory, tt.Compose([tt.Resize(128),\n",
        "                                            tt.RandomCrop(128),\n",
        "                                            tt.Grayscale(1),\n",
        "                                            tt.ToTensor()]))"
      ]
    },
    {
      "cell_type": "code",
      "execution_count": null,
      "metadata": {
        "colab": {
          "base_uri": "https://localhost:8080/"
        },
        "id": "033U-QNX4ImP",
        "outputId": "c0448919-1674-4587-c668-129bb74f09c3"
      },
      "outputs": [
        {
          "output_type": "execute_result",
          "data": {
            "text/plain": [
              "87000"
            ]
          },
          "metadata": {},
          "execution_count": 10
        }
      ],
      "source": [
        "len(train_data)"
      ]
    },
    {
      "cell_type": "code",
      "execution_count": null,
      "metadata": {
        "id": "hepw90Udktf-"
      },
      "outputs": [],
      "source": [
        "train_set_size = int(len(train_data) * 0.8)\n",
        "valid_set_size = len(train_data) - train_set_size"
      ]
    },
    {
      "cell_type": "code",
      "execution_count": null,
      "metadata": {
        "colab": {
          "base_uri": "https://localhost:8080/"
        },
        "id": "MciTE6h2mUWv",
        "outputId": "61b28e19-0d1f-470d-d520-1ee189a986e8"
      },
      "outputs": [
        {
          "output_type": "execute_result",
          "data": {
            "text/plain": [
              "(69600, 17400)"
            ]
          },
          "metadata": {},
          "execution_count": 12
        }
      ],
      "source": [
        "train_data, val_data = random_split(train_data, [train_set_size, valid_set_size])\n",
        "len(train_data), len(val_data)"
      ]
    },
    {
      "cell_type": "code",
      "execution_count": null,
      "metadata": {
        "id": "DOrnXvkkmeN4"
      },
      "outputs": [],
      "source": [
        "batch_size = 64\n",
        "device = torch.device(\"cuda:0\" if torch.cuda.is_available() else \"cpu\")\n",
        "\n",
        "# PyTorch data loaders\n",
        "train = DataLoader(train_data, batch_size, shuffle=True)\n",
        "val = DataLoader(val_data, batch_size*2)\n",
        "\n",
        "classes = ('A','B','C','D','E','F','G','H','I','J','K','L','M','N','O','P','Q','R','S','T','U','V','W','X','Y','Z','space','del','nothing')"
      ]
    },
    {
      "cell_type": "code",
      "execution_count": null,
      "metadata": {
        "id": "jtf6xqPi7_wL"
      },
      "outputs": [],
      "source": [
        "class Net(nn.Module):\n",
        "    def __init__(self):\n",
        "        super(Net, self).__init__()\n",
        "        self.h1 = nn.Linear(1 * 128 * 128, 64) \n",
        "        self.h2 = nn.Linear(64, 128)  \n",
        "        self.output = nn.Linear(128, 29)  \n",
        "        self.dropout = nn.Dropout(0.3) \n",
        "\n",
        "    def forward(self, x):\n",
        "        x = x.view(-1, 1 * 128 * 128)\n",
        "        x = F.relu(self.h1(x))\n",
        "        x = F.relu(self.h2(x))\n",
        "        x = self.dropout(self.output(x))\n",
        "\n",
        "        return x"
      ]
    },
    {
      "cell_type": "code",
      "execution_count": null,
      "metadata": {
        "colab": {
          "base_uri": "https://localhost:8080/"
        },
        "id": "gRGINxt6NP2h",
        "outputId": "0ce2a8e1-0a6a-4ce4-8be8-8ec4ac1869fb"
      },
      "outputs": [
        {
          "output_type": "execute_result",
          "data": {
            "text/plain": [
              "Net(\n",
              "  (h1): Linear(in_features=16384, out_features=64, bias=True)\n",
              "  (h2): Linear(in_features=64, out_features=128, bias=True)\n",
              "  (output): Linear(in_features=128, out_features=29, bias=True)\n",
              "  (dropout): Dropout(p=0.3, inplace=False)\n",
              ")"
            ]
          },
          "metadata": {},
          "execution_count": 15
        }
      ],
      "source": [
        "num_epochs = 50\n",
        "\n",
        "net = Net()\n",
        "net.to(device)"
      ]
    },
    {
      "cell_type": "code",
      "execution_count": null,
      "metadata": {
        "id": "8l2HRKiENWZC"
      },
      "outputs": [],
      "source": [
        "criterion = nn.CrossEntropyLoss()\n",
        "optimizer = torch.optim.Adam(net.parameters(), lr=0.001, weight_decay=1e-4)\n",
        "scheduler = optim.lr_scheduler.ReduceLROnPlateau(optimizer, mode='max', patience=5, factor=0.1, verbose=True, cooldown=10)"
      ]
    },
    {
      "cell_type": "code",
      "execution_count": null,
      "metadata": {
        "colab": {
          "base_uri": "https://localhost:8080/"
        },
        "id": "ST_TIVfGNW-5",
        "outputId": "a4d61d1d-93b2-48ea-fe4a-3822d77e6e2a"
      },
      "outputs": [
        {
          "metadata": {
            "tags": null
          },
          "name": "stderr",
          "output_type": "stream",
          "text": [
            "  2%|▏         | 1/50 [02:03<1:41:07, 123.84s/it]"
          ]
        },
        {
          "metadata": {
            "tags": null
          },
          "name": "stdout",
          "output_type": "stream",
          "text": [
            "Epoch 1 , Training acc: 6.126437, Validation acc: 7.166667\n"
          ]
        },
        {
          "metadata": {
            "tags": null
          },
          "name": "stderr",
          "output_type": "stream",
          "text": [
            "\r  4%|▍         | 2/50 [04:06<1:38:34, 123.22s/it]"
          ]
        },
        {
          "metadata": {
            "tags": null
          },
          "name": "stdout",
          "output_type": "stream",
          "text": [
            "Epoch 2 , Training acc: 8.215517, Validation acc: 8.988506\n"
          ]
        },
        {
          "metadata": {
            "tags": null
          },
          "name": "stderr",
          "output_type": "stream",
          "text": [
            "\r  6%|▌         | 3/50 [06:11<1:37:16, 124.17s/it]"
          ]
        },
        {
          "metadata": {
            "tags": null
          },
          "name": "stdout",
          "output_type": "stream",
          "text": [
            "Epoch 3 , Training acc: 9.310345, Validation acc: 10.781609\n"
          ]
        },
        {
          "metadata": {
            "tags": null
          },
          "name": "stderr",
          "output_type": "stream",
          "text": [
            "\r  8%|▊         | 4/50 [08:14<1:34:38, 123.44s/it]"
          ]
        },
        {
          "metadata": {
            "tags": null
          },
          "name": "stdout",
          "output_type": "stream",
          "text": [
            "Epoch 4 , Training acc: 10.501437, Validation acc: 11.925287\n"
          ]
        },
        {
          "metadata": {
            "tags": null
          },
          "name": "stderr",
          "output_type": "stream",
          "text": [
            "\r 10%|█         | 5/50 [10:16<1:32:13, 122.96s/it]"
          ]
        },
        {
          "metadata": {
            "tags": null
          },
          "name": "stdout",
          "output_type": "stream",
          "text": [
            "Epoch 5 , Training acc: 11.778736, Validation acc: 13.574713\n"
          ]
        },
        {
          "metadata": {
            "tags": null
          },
          "name": "stderr",
          "output_type": "stream",
          "text": [
            "\r 12%|█▏        | 6/50 [12:18<1:29:56, 122.64s/it]"
          ]
        },
        {
          "metadata": {
            "tags": null
          },
          "name": "stdout",
          "output_type": "stream",
          "text": [
            "Epoch 6 , Training acc: 12.643678, Validation acc: 15.568966\n"
          ]
        },
        {
          "metadata": {
            "tags": null
          },
          "name": "stderr",
          "output_type": "stream",
          "text": [
            "\r 14%|█▍        | 7/50 [14:20<1:27:43, 122.40s/it]"
          ]
        },
        {
          "metadata": {
            "tags": null
          },
          "name": "stdout",
          "output_type": "stream",
          "text": [
            "Epoch 7 , Training acc: 13.295977, Validation acc: 13.925287\n"
          ]
        },
        {
          "metadata": {
            "tags": null
          },
          "name": "stderr",
          "output_type": "stream",
          "text": [
            "\r 16%|█▌        | 8/50 [16:22<1:25:34, 122.26s/it]"
          ]
        },
        {
          "metadata": {
            "tags": null
          },
          "name": "stdout",
          "output_type": "stream",
          "text": [
            "Epoch 8 , Training acc: 14.764368, Validation acc: 15.132184\n"
          ]
        },
        {
          "metadata": {
            "tags": null
          },
          "name": "stderr",
          "output_type": "stream",
          "text": [
            "\r 18%|█▊        | 9/50 [18:24<1:23:35, 122.34s/it]"
          ]
        },
        {
          "metadata": {
            "tags": null
          },
          "name": "stdout",
          "output_type": "stream",
          "text": [
            "Epoch 9 , Training acc: 15.382184, Validation acc: 13.643678\n"
          ]
        },
        {
          "metadata": {
            "tags": null
          },
          "name": "stderr",
          "output_type": "stream",
          "text": [
            "\r 20%|██        | 10/50 [20:26<1:21:32, 122.31s/it]"
          ]
        },
        {
          "metadata": {
            "tags": null
          },
          "name": "stdout",
          "output_type": "stream",
          "text": [
            "Epoch 10 , Training acc: 15.531609, Validation acc: 19.270115\n"
          ]
        },
        {
          "metadata": {
            "tags": null
          },
          "name": "stderr",
          "output_type": "stream",
          "text": [
            "\r 22%|██▏       | 11/50 [22:28<1:19:25, 122.18s/it]"
          ]
        },
        {
          "metadata": {
            "tags": null
          },
          "name": "stdout",
          "output_type": "stream",
          "text": [
            "Epoch 11 , Training acc: 16.528736, Validation acc: 19.166667\n"
          ]
        },
        {
          "metadata": {
            "tags": null
          },
          "name": "stderr",
          "output_type": "stream",
          "text": [
            "\r 24%|██▍       | 12/50 [24:29<1:17:06, 121.75s/it]"
          ]
        },
        {
          "metadata": {
            "tags": null
          },
          "name": "stdout",
          "output_type": "stream",
          "text": [
            "Epoch 12 , Training acc: 18.156609, Validation acc: 15.396552\n"
          ]
        },
        {
          "metadata": {
            "tags": null
          },
          "name": "stderr",
          "output_type": "stream",
          "text": [
            "\r 26%|██▌       | 13/50 [26:30<1:14:56, 121.53s/it]"
          ]
        },
        {
          "metadata": {
            "tags": null
          },
          "name": "stdout",
          "output_type": "stream",
          "text": [
            "Epoch 13 , Training acc: 18.793103, Validation acc: 16.436782\n"
          ]
        },
        {
          "metadata": {
            "tags": null
          },
          "name": "stderr",
          "output_type": "stream",
          "text": [
            "\r 28%|██▊       | 14/50 [28:31<1:12:48, 121.34s/it]"
          ]
        },
        {
          "metadata": {
            "tags": null
          },
          "name": "stdout",
          "output_type": "stream",
          "text": [
            "Epoch 14 , Training acc: 19.301724, Validation acc: 15.856322\n"
          ]
        },
        {
          "metadata": {
            "tags": null
          },
          "name": "stderr",
          "output_type": "stream",
          "text": [
            "\r 30%|███       | 15/50 [30:32<1:10:44, 121.26s/it]"
          ]
        },
        {
          "metadata": {
            "tags": null
          },
          "name": "stdout",
          "output_type": "stream",
          "text": [
            "Epoch 15 , Training acc: 20.040230, Validation acc: 22.494253\n"
          ]
        },
        {
          "metadata": {
            "tags": null
          },
          "name": "stderr",
          "output_type": "stream",
          "text": [
            "\r 32%|███▏      | 16/50 [32:33<1:08:41, 121.23s/it]"
          ]
        },
        {
          "metadata": {
            "tags": null
          },
          "name": "stdout",
          "output_type": "stream",
          "text": [
            "Epoch 16 , Training acc: 20.405172, Validation acc: 12.770115\n"
          ]
        },
        {
          "metadata": {
            "tags": null
          },
          "name": "stderr",
          "output_type": "stream",
          "text": [
            "\r 34%|███▍      | 17/50 [34:34<1:06:35, 121.06s/it]"
          ]
        },
        {
          "metadata": {
            "tags": null
          },
          "name": "stdout",
          "output_type": "stream",
          "text": [
            "Epoch 17 , Training acc: 20.823276, Validation acc: 20.402299\n"
          ]
        },
        {
          "metadata": {
            "tags": null
          },
          "name": "stderr",
          "output_type": "stream",
          "text": [
            "\r 36%|███▌      | 18/50 [36:35<1:04:35, 121.12s/it]"
          ]
        },
        {
          "metadata": {
            "tags": null
          },
          "name": "stdout",
          "output_type": "stream",
          "text": [
            "Epoch 18 , Training acc: 20.535920, Validation acc: 23.816092\n"
          ]
        },
        {
          "output_type": "stream",
          "name": "stderr",
          "text": [
            "\r 38%|███▊      | 19/50 [38:37<1:02:36, 121.18s/it]"
          ]
        },
        {
          "output_type": "stream",
          "name": "stdout",
          "text": [
            "Epoch 19 , Training acc: 21.640805, Validation acc: 23.189655\n"
          ]
        },
        {
          "output_type": "stream",
          "name": "stderr",
          "text": [
            "\r 40%|████      | 20/50 [40:38<1:00:34, 121.15s/it]"
          ]
        },
        {
          "output_type": "stream",
          "name": "stdout",
          "text": [
            "Epoch 20 , Training acc: 22.034483, Validation acc: 19.873563\n"
          ]
        },
        {
          "output_type": "stream",
          "name": "stderr",
          "text": [
            "\r 42%|████▏     | 21/50 [42:39<58:36, 121.25s/it]  "
          ]
        },
        {
          "output_type": "stream",
          "name": "stdout",
          "text": [
            "Epoch 21 , Training acc: 21.962644, Validation acc: 21.522989\n"
          ]
        },
        {
          "output_type": "stream",
          "name": "stderr",
          "text": [
            "\r 44%|████▍     | 22/50 [44:41<56:36, 121.31s/it]"
          ]
        },
        {
          "output_type": "stream",
          "name": "stdout",
          "text": [
            "Epoch 22 , Training acc: 22.847701, Validation acc: 24.580460\n"
          ]
        },
        {
          "output_type": "stream",
          "name": "stderr",
          "text": [
            "\r 46%|████▌     | 23/50 [46:42<54:36, 121.36s/it]"
          ]
        },
        {
          "output_type": "stream",
          "name": "stdout",
          "text": [
            "Epoch 23 , Training acc: 22.510057, Validation acc: 11.149425\n"
          ]
        },
        {
          "output_type": "stream",
          "name": "stderr",
          "text": [
            "\r 48%|████▊     | 24/50 [48:45<52:51, 121.98s/it]"
          ]
        },
        {
          "output_type": "stream",
          "name": "stdout",
          "text": [
            "Epoch 24 , Training acc: 22.510057, Validation acc: 25.551724\n"
          ]
        },
        {
          "output_type": "stream",
          "name": "stderr",
          "text": [
            "\r 50%|█████     | 25/50 [50:47<50:47, 121.89s/it]"
          ]
        },
        {
          "output_type": "stream",
          "name": "stdout",
          "text": [
            "Epoch 25 , Training acc: 22.593391, Validation acc: 26.517241\n"
          ]
        },
        {
          "output_type": "stream",
          "name": "stderr",
          "text": [
            "\r 52%|█████▏    | 26/50 [52:49<48:43, 121.79s/it]"
          ]
        },
        {
          "output_type": "stream",
          "name": "stdout",
          "text": [
            "Epoch 26 , Training acc: 22.929598, Validation acc: 22.160920\n"
          ]
        },
        {
          "output_type": "stream",
          "name": "stderr",
          "text": [
            "\r 54%|█████▍    | 27/50 [54:51<46:41, 121.82s/it]"
          ]
        },
        {
          "output_type": "stream",
          "name": "stdout",
          "text": [
            "Epoch 27 , Training acc: 23.668103, Validation acc: 25.729885\n"
          ]
        },
        {
          "output_type": "stream",
          "name": "stderr",
          "text": [
            "\r 56%|█████▌    | 28/50 [56:52<44:38, 121.75s/it]"
          ]
        },
        {
          "output_type": "stream",
          "name": "stdout",
          "text": [
            "Epoch 28 , Training acc: 22.614943, Validation acc: 22.649425\n"
          ]
        },
        {
          "output_type": "stream",
          "name": "stderr",
          "text": [
            "\r 58%|█████▊    | 29/50 [58:54<42:37, 121.79s/it]"
          ]
        },
        {
          "output_type": "stream",
          "name": "stdout",
          "text": [
            "Epoch 29 , Training acc: 23.958333, Validation acc: 25.379310\n"
          ]
        },
        {
          "output_type": "stream",
          "name": "stderr",
          "text": [
            "\r 60%|██████    | 30/50 [1:00:56<40:35, 121.76s/it]"
          ]
        },
        {
          "output_type": "stream",
          "name": "stdout",
          "text": [
            "Epoch 30 , Training acc: 23.227011, Validation acc: 12.235632\n"
          ]
        },
        {
          "output_type": "stream",
          "name": "stderr",
          "text": [
            "\r 62%|██████▏   | 31/50 [1:02:57<38:33, 121.74s/it]"
          ]
        },
        {
          "output_type": "stream",
          "name": "stdout",
          "text": [
            "Epoch 31 , Training acc: 24.390805, Validation acc: 19.770115\n"
          ]
        },
        {
          "output_type": "stream",
          "name": "stderr",
          "text": [
            "\r 64%|██████▍   | 32/50 [1:04:59<36:32, 121.78s/it]"
          ]
        },
        {
          "output_type": "stream",
          "name": "stdout",
          "text": [
            "Epoch 32 , Training acc: 24.097701, Validation acc: 24.896552\n"
          ]
        },
        {
          "output_type": "stream",
          "name": "stderr",
          "text": [
            "\r 66%|██████▌   | 33/50 [1:07:01<34:29, 121.72s/it]"
          ]
        },
        {
          "output_type": "stream",
          "name": "stdout",
          "text": [
            "Epoch 33 , Training acc: 24.291667, Validation acc: 26.218391\n"
          ]
        },
        {
          "output_type": "stream",
          "name": "stderr",
          "text": [
            "\r 68%|██████▊   | 34/50 [1:09:02<32:26, 121.63s/it]"
          ]
        },
        {
          "output_type": "stream",
          "name": "stdout",
          "text": [
            "Epoch 34 , Training acc: 23.668103, Validation acc: 25.362069\n"
          ]
        },
        {
          "output_type": "stream",
          "name": "stderr",
          "text": [
            "\r 70%|███████   | 35/50 [1:11:04<30:23, 121.55s/it]"
          ]
        },
        {
          "output_type": "stream",
          "name": "stdout",
          "text": [
            "Epoch 35 , Training acc: 24.300287, Validation acc: 28.310345\n"
          ]
        },
        {
          "output_type": "stream",
          "name": "stderr",
          "text": [
            "\r 72%|███████▏  | 36/50 [1:13:05<28:18, 121.35s/it]"
          ]
        },
        {
          "output_type": "stream",
          "name": "stdout",
          "text": [
            "Epoch 36 , Training acc: 23.816092, Validation acc: 22.379310\n"
          ]
        },
        {
          "output_type": "stream",
          "name": "stderr",
          "text": [
            "\r 74%|███████▍  | 37/50 [1:15:06<26:16, 121.27s/it]"
          ]
        },
        {
          "output_type": "stream",
          "name": "stdout",
          "text": [
            "Epoch 37 , Training acc: 24.353448, Validation acc: 20.063218\n"
          ]
        },
        {
          "output_type": "stream",
          "name": "stderr",
          "text": [
            "\r 76%|███████▌  | 38/50 [1:17:07<24:14, 121.20s/it]"
          ]
        },
        {
          "output_type": "stream",
          "name": "stdout",
          "text": [
            "Epoch 38 , Training acc: 24.548851, Validation acc: 22.787356\n"
          ]
        },
        {
          "output_type": "stream",
          "name": "stderr",
          "text": [
            "\r 78%|███████▊  | 39/50 [1:19:07<22:11, 121.04s/it]"
          ]
        },
        {
          "output_type": "stream",
          "name": "stdout",
          "text": [
            "Epoch 39 , Training acc: 25.043103, Validation acc: 16.706897\n"
          ]
        },
        {
          "output_type": "stream",
          "name": "stderr",
          "text": [
            "\r 80%|████████  | 40/50 [1:21:08<20:10, 121.03s/it]"
          ]
        },
        {
          "output_type": "stream",
          "name": "stdout",
          "text": [
            "Epoch 40 , Training acc: 24.767241, Validation acc: 26.448276\n"
          ]
        },
        {
          "output_type": "stream",
          "name": "stderr",
          "text": [
            "\r 82%|████████▏ | 41/50 [1:23:10<18:09, 121.06s/it]"
          ]
        },
        {
          "output_type": "stream",
          "name": "stdout",
          "text": [
            "Epoch 41 , Training acc: 25.943966, Validation acc: 24.908046\n"
          ]
        },
        {
          "output_type": "stream",
          "name": "stderr",
          "text": [
            "\r 84%|████████▍ | 42/50 [1:25:11<16:08, 121.12s/it]"
          ]
        },
        {
          "output_type": "stream",
          "name": "stdout",
          "text": [
            "Epoch 42 , Training acc: 24.666667, Validation acc: 14.350575\n"
          ]
        },
        {
          "output_type": "stream",
          "name": "stderr",
          "text": [
            "\r 86%|████████▌ | 43/50 [1:27:12<14:08, 121.20s/it]"
          ]
        },
        {
          "output_type": "stream",
          "name": "stdout",
          "text": [
            "Epoch 43 , Training acc: 25.182471, Validation acc: 22.925287\n"
          ]
        },
        {
          "output_type": "stream",
          "name": "stderr",
          "text": [
            "\r 88%|████████▊ | 44/50 [1:29:13<12:07, 121.17s/it]"
          ]
        },
        {
          "output_type": "stream",
          "name": "stdout",
          "text": [
            "Epoch 44 , Training acc: 25.425287, Validation acc: 27.471264\n"
          ]
        },
        {
          "output_type": "stream",
          "name": "stderr",
          "text": [
            "\r 90%|█████████ | 45/50 [1:31:15<10:06, 121.25s/it]"
          ]
        },
        {
          "output_type": "stream",
          "name": "stdout",
          "text": [
            "Epoch 45 , Training acc: 25.206897, Validation acc: 28.718391\n"
          ]
        },
        {
          "output_type": "stream",
          "name": "stderr",
          "text": [
            "\r 92%|█████████▏| 46/50 [1:33:16<08:05, 121.28s/it]"
          ]
        },
        {
          "output_type": "stream",
          "name": "stdout",
          "text": [
            "Epoch 46 , Training acc: 25.159483, Validation acc: 26.264368\n"
          ]
        },
        {
          "output_type": "stream",
          "name": "stderr",
          "text": [
            "\r 94%|█████████▍| 47/50 [1:35:17<06:03, 121.27s/it]"
          ]
        },
        {
          "output_type": "stream",
          "name": "stdout",
          "text": [
            "Epoch 47 , Training acc: 26.413793, Validation acc: 18.919540\n"
          ]
        },
        {
          "output_type": "stream",
          "name": "stderr",
          "text": [
            "\r 96%|█████████▌| 48/50 [1:37:18<04:02, 121.13s/it]"
          ]
        },
        {
          "output_type": "stream",
          "name": "stdout",
          "text": [
            "Epoch 48 , Training acc: 25.441092, Validation acc: 27.103448\n"
          ]
        },
        {
          "output_type": "stream",
          "name": "stderr",
          "text": [
            "\r 98%|█████████▊| 49/50 [1:39:19<02:01, 121.15s/it]"
          ]
        },
        {
          "output_type": "stream",
          "name": "stdout",
          "text": [
            "Epoch 49 , Training acc: 25.579023, Validation acc: 24.902299\n"
          ]
        },
        {
          "output_type": "stream",
          "name": "stderr",
          "text": [
            "100%|██████████| 50/50 [1:41:20<00:00, 121.61s/it]"
          ]
        },
        {
          "output_type": "stream",
          "name": "stdout",
          "text": [
            "Epoch 50 , Training acc: 26.133621, Validation acc: 21.040230\n"
          ]
        },
        {
          "output_type": "stream",
          "name": "stderr",
          "text": [
            "\n"
          ]
        }
      ],
      "source": [
        "max_accuracy = 0\n",
        "train_losses = []\n",
        "val_losses = []\n",
        "acc_values=[]\n",
        "val_accs=[]\n",
        "for epoch in tqdm(range(num_epochs)):\n",
        "    correct = 0\n",
        "    correct_val=0\n",
        "    start_time = time.time()\n",
        "    train_loss = 0.0\n",
        "    valid_loss = 0.0 \n",
        "    \n",
        "    for i, data in enumerate(train, 0):\n",
        "        inputs, labels = data\n",
        "        inputs, labels = inputs.to(device), labels.to(device)\n",
        "        optimizer.zero_grad()\n",
        "        outputs = net(inputs)\n",
        "        loss = criterion(outputs, labels)\n",
        "        loss.backward()\n",
        "        optimizer.step()\n",
        "        train_loss += loss.item() \n",
        "        predictions = torch.max(outputs,1)[1]\n",
        "        correct+=(predictions==labels).sum().cpu().numpy()\n",
        "\n",
        "    with torch.no_grad():\n",
        "        for i, data in enumerate(val, 0):\n",
        "            val_inputs, val_labels = data\n",
        "            val_inputs, val_labels = val_inputs.to(device), val_labels.to(device)\n",
        "            net.eval()\n",
        "            val_preds = net(val_inputs)\n",
        "            loss = criterion(val_preds, val_labels)\n",
        "            valid_loss += loss.item()\n",
        "            val_predictions = torch.max(val_preds, 1)[1]\n",
        "            correct_val+=(val_predictions==val_labels).sum().cpu().numpy()\n",
        "\n",
        "    acc = 100*correct/len(train.dataset)\n",
        "    acc_values.append(acc)\n",
        "\n",
        "    val_acc = 100*correct_val/len(val.dataset)\n",
        "    val_accs.append(val_acc)\n",
        "\n",
        "    train_losses.append(train_loss/len(train.dataset))\n",
        "    val_losses.append(valid_loss/ len(val.dataset))\n",
        "\n",
        "    print('Epoch %s , Training acc: %f, Validation acc: %f' %(epoch+1, acc, val_acc))"
      ]
    },
    {
      "cell_type": "code",
      "source": [
        "fig, _ = plt.subplots(1, 2)\n",
        "fig.set_size_inches(16, 6)\n",
        "\n",
        "fig.axes[0].plot(train_losses, label=\"training\")\n",
        "fig.axes[0].plot(val_losses, label=\"validation\")\n",
        "fig.axes[0].set_title(\"Training and Validation Loss\")\n",
        "fig.axes[0].legend()\n",
        "fig.axes[1].plot(acc_values, label=\"training\")\n",
        "fig.axes[1].plot(val_accs, label=\"validation\")\n",
        "fig.axes[1].set_title(\"Training and Validation Accuracy\")\n",
        "fig.axes[1].legend()"
      ],
      "metadata": {
        "colab": {
          "base_uri": "https://localhost:8080/",
          "height": 407
        },
        "id": "BbFkueA2KOD-",
        "outputId": "44fe6e10-92ad-4f6e-f194-598146d7fcef"
      },
      "execution_count": null,
      "outputs": [
        {
          "output_type": "execute_result",
          "data": {
            "text/plain": [
              "<matplotlib.legend.Legend at 0x7ff666080810>"
            ]
          },
          "metadata": {},
          "execution_count": 19
        },
        {
          "output_type": "display_data",
          "data": {
            "text/plain": [
              "<Figure size 1152x432 with 2 Axes>"
            ],
            "image/png": "[encoded data removed]"
          },
          "metadata": {
            "needs_background": "light"
          }
        }
      ]
    },
    {
      "cell_type": "code",
      "source": [
        "torch.save(net.state_dict(), 'linear.pth')"
      ],
      "metadata": {
        "id": "9-6b1n05O8OP"
      },
      "execution_count": null,
      "outputs": []
    },
    {
      "cell_type": "code",
      "source": [
        "data_dir = '/content/asl-alphabet/asl_alphabet_test'\n",
        "test_data = ImageFolder(data_dir, tt.Compose([tt.Resize(128),\n",
        "                                            tt.RandomCrop(128),\n",
        "                                            tt.Grayscale(1),\n",
        "                                            tt.ToTensor()]))\n",
        "test = DataLoader(test_data)\n",
        "correct=[]\n",
        "wrong=[]\n",
        "with torch.no_grad():\n",
        "  correct_val=0\n",
        "  for i, data in enumerate(test, 0):\n",
        "    test_inputs, test_labels = data\n",
        "    test_inputs, test_labels = test_inputs.to(device), test_labels.to(device)\n",
        "    net.eval()\n",
        "    test_preds = net(test_inputs)\n",
        "    test_predictions = torch.max(test_preds, 1)[1]\n",
        "    correct_val+=(test_predictions==test_labels).sum().cpu().numpy()\n",
        "    if test_predictions==test_labels:\n",
        "      correct.append(i)\n",
        "    else:\n",
        "      wrong.append(i)\n",
        "\n",
        "print(\"The test accuracy over %s samples is %f\" %(len(test), correct_val/len(test.dataset)*100))"
      ],
      "metadata": {
        "colab": {
          "base_uri": "https://localhost:8080/"
        },
        "id": "jlFihIwWKJSa",
        "outputId": "c35e5341-d83a-4628-93fc-3a32f59e9c39"
      },
      "execution_count": null,
      "outputs": [
        {
          "output_type": "stream",
          "name": "stdout",
          "text": [
            "The test accuracy over 28 samples is 25.000000\n"
          ]
        }
      ]
    },
    {
      "cell_type": "code",
      "source": [
        "correct"
      ],
      "metadata": {
        "colab": {
          "base_uri": "https://localhost:8080/"
        },
        "id": "xqOrM1ZmSwLo",
        "outputId": "fff880fa-a687-4ee5-da7b-73d0358a4b46"
      },
      "execution_count": null,
      "outputs": [
        {
          "output_type": "execute_result",
          "data": {
            "text/plain": [
              "[0, 1, 2, 3, 4, 5, 26]"
            ]
          },
          "metadata": {},
          "execution_count": 35
        }
      ]
    },
    {
      "cell_type": "code",
      "source": [
        "wrong"
      ],
      "metadata": {
        "colab": {
          "base_uri": "https://localhost:8080/"
        },
        "id": "O4KnMajgTadi",
        "outputId": "333ec9f4-8ef4-46be-ec0d-68a5514ce7b5"
      },
      "execution_count": null,
      "outputs": [
        {
          "output_type": "execute_result",
          "data": {
            "text/plain": [
              "[6,\n",
              " 7,\n",
              " 8,\n",
              " 9,\n",
              " 10,\n",
              " 11,\n",
              " 12,\n",
              " 13,\n",
              " 14,\n",
              " 15,\n",
              " 16,\n",
              " 17,\n",
              " 18,\n",
              " 19,\n",
              " 20,\n",
              " 21,\n",
              " 22,\n",
              " 23,\n",
              " 24,\n",
              " 25,\n",
              " 27]"
            ]
          },
          "metadata": {},
          "execution_count": 36
        }
      ]
    },
    {
      "cell_type": "code",
      "source": [
        ""
      ],
      "metadata": {
        "id": "I5hG-bEDTlmm"
      },
      "execution_count": null,
      "outputs": []
    }
  ],
  "metadata": {
    "accelerator": "GPU",
    "colab": {
      "collapsed_sections": [],
      "name": "EE541 Project.ipynb",
      "provenance": []
    },
    "kernelspec": {
      "display_name": "Python 3",
      "name": "python3"
    },
    "language_info": {
      "name": "python"
    }
  },
  "nbformat": 4,
  "nbformat_minor": 0
}