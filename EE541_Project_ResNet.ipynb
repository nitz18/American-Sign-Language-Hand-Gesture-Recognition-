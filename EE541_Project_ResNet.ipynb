{
  "cells": [
    {
      "cell_type": "code",
      "execution_count": null,
      "metadata": {
        "id": "r-rWjgps156Q"
      },
      "outputs": [],
      "source": [
        "!pip install opendatasets --upgrade --quiet"
      ]
    },
    {
      "cell_type": "code",
      "execution_count": null,
      "metadata": {
        "id": "8hhFpX0H2CM5"
      },
      "outputs": [],
      "source": [
        "from torch.utils.data import DataLoader\n",
        "from torch.utils.data import random_split\n",
        "from torchvision.datasets import ImageFolder\n",
        "import opendatasets as od\n",
        "import os \n",
        "import shutil\n",
        "import torch\n",
        "import torchvision.transforms as tt\n",
        "from torch.autograd import Variable\n",
        "import torch.nn as nn\n",
        "import torch.nn.functional as F\n",
        "import torch.optim as optim\n",
        "import torchvision.transforms as transforms\n",
        "import torchvision.datasets as datasets\n",
        "import torch.nn.functional as F\n",
        "import numpy as np\n",
        "import matplotlib.pyplot as plt\n",
        "import torch.utils.data as td\n",
        "import random, time\n",
        "from tqdm import tqdm\n",
        "from sklearn.metrics import confusion_matrix\n",
        "import pandas as pd\n",
        "import seaborn as sns\n",
        "import matplotlib.pyplot as plt"
      ]
    },
    {
      "cell_type": "code",
      "execution_count": null,
      "metadata": {
        "id": "Fls_0jzq2F92"
      },
      "outputs": [],
      "source": [
        "dataset_url = 'https://www.kaggle.com/grassknoted/asl-alphabet'"
      ]
    },
    {
      "cell_type": "code",
      "execution_count": null,
      "metadata": {
        "id": "qvH0rfq62Ia_"
      },
      "outputs": [],
      "source": [
        "if os.path.exists('./asl-alphabet'):\n",
        "  shutil.rmtree('./asl-alphabet')"
      ]
    },
    {
      "cell_type": "code",
      "execution_count": null,
      "metadata": {
        "colab": {
          "base_uri": "https://localhost:8080/"
        },
        "id": "qi8gPQ3G2MLr",
        "outputId": "5fb82be5-fadd-49c1-c50e-299379cc5b11"
      },
      "outputs": [
        {
          "output_type": "stream",
          "name": "stdout",
          "text": [
            "Please provide your Kaggle credentials to download this dataset. Learn more: http://bit.ly/kaggle-creds\n",
            "Your Kaggle username: nithyashreem\n",
            "Your Kaggle Key: ··········\n",
            "Downloading asl-alphabet.zip to ./asl-alphabet\n"
          ]
        },
        {
          "output_type": "stream",
          "name": "stderr",
          "text": [
            "100%|██████████| 1.03G/1.03G [00:21<00:00, 50.4MB/s]\n"
          ]
        },
        {
          "output_type": "stream",
          "name": "stdout",
          "text": [
            "\n"
          ]
        }
      ],
      "source": [
        "od.download(dataset_url)"
      ]
    },
    {
      "cell_type": "code",
      "execution_count": null,
      "metadata": {
        "id": "KYczcBa32Phk"
      },
      "outputs": [],
      "source": [
        "data_directory = './asl-alphabet/asl_alphabet_train/asl_alphabet_train'"
      ]
    },
    {
      "cell_type": "code",
      "execution_count": null,
      "metadata": {
        "colab": {
          "base_uri": "https://localhost:8080/"
        },
        "id": "EHBz0Jis2QW7",
        "outputId": "05e083b0-2037-4d73-e240-0662de16df32"
      },
      "outputs": [
        {
          "output_type": "execute_result",
          "data": {
            "text/plain": [
              "['K',\n",
              " 'Q',\n",
              " 'J',\n",
              " 'H',\n",
              " 'del',\n",
              " 'P',\n",
              " 'I',\n",
              " 'L',\n",
              " 'space',\n",
              " 'nothing',\n",
              " 'E',\n",
              " 'O',\n",
              " 'V',\n",
              " 'D',\n",
              " 'S',\n",
              " 'Y',\n",
              " 'T',\n",
              " 'Z',\n",
              " 'M',\n",
              " 'C',\n",
              " 'F',\n",
              " 'B',\n",
              " 'X',\n",
              " 'G',\n",
              " 'N',\n",
              " 'W',\n",
              " 'R',\n",
              " 'A',\n",
              " 'U']"
            ]
          },
          "metadata": {},
          "execution_count": 7
        }
      ],
      "source": [
        "os.listdir(data_directory)"
      ]
    },
    {
      "cell_type": "code",
      "execution_count": null,
      "metadata": {
        "id": "vgVVq4YX3r1w"
      },
      "outputs": [],
      "source": [
        "# train_data = ImageFolder(data_directory)"
      ]
    },
    {
      "cell_type": "code",
      "execution_count": null,
      "metadata": {
        "id": "9QqVNiblV60Y"
      },
      "outputs": [],
      "source": [
        "train_data = ImageFolder(data_directory, tt.Compose([tt.Resize(128),\n",
        "                                            tt.RandomCrop(128),\n",
        "                                            tt.Grayscale(1),\n",
        "                                            tt.ToTensor()]))"
      ]
    },
    {
      "cell_type": "code",
      "execution_count": null,
      "metadata": {
        "colab": {
          "base_uri": "https://localhost:8080/"
        },
        "id": "033U-QNX4ImP",
        "outputId": "37ed20b5-8f01-4ae5-f46c-50907dfcb294"
      },
      "outputs": [
        {
          "output_type": "execute_result",
          "data": {
            "text/plain": [
              "87000"
            ]
          },
          "metadata": {},
          "execution_count": 10
        }
      ],
      "source": [
        "len(train_data)"
      ]
    },
    {
      "cell_type": "code",
      "execution_count": null,
      "metadata": {
        "id": "hepw90Udktf-"
      },
      "outputs": [],
      "source": [
        "train_set_size = int(len(train_data) * 0.8)\n",
        "valid_set_size = len(train_data) - train_set_size"
      ]
    },
    {
      "cell_type": "code",
      "execution_count": null,
      "metadata": {
        "colab": {
          "base_uri": "https://localhost:8080/"
        },
        "id": "MciTE6h2mUWv",
        "outputId": "b37f6e27-94dc-44d8-e063-29286037feb9"
      },
      "outputs": [
        {
          "output_type": "execute_result",
          "data": {
            "text/plain": [
              "(69600, 17400)"
            ]
          },
          "metadata": {},
          "execution_count": 12
        }
      ],
      "source": [
        "train_data, val_data = random_split(train_data, [train_set_size, valid_set_size])\n",
        "len(train_data), len(val_data)"
      ]
    },
    {
      "cell_type": "code",
      "execution_count": null,
      "metadata": {
        "id": "DOrnXvkkmeN4"
      },
      "outputs": [],
      "source": [
        "batch_size = 64\n",
        "device = torch.device(\"cuda:0\" if torch.cuda.is_available() else \"cpu\")\n",
        "\n",
        "# PyTorch data loaders\n",
        "# train = DataLoader(train_data, batch_size, shuffle=True)\n",
        "# val = DataLoader(val_data, batch_size*2)\n",
        "\n",
        "classes = ('A','B','C','D','E','F','G','H','I','J','K','L','M','N','O','P','Q','R','S','T','U','V','W','X','Y','Z','space','del','nothing')"
      ]
    },
    {
      "cell_type": "code",
      "execution_count": null,
      "metadata": {
        "id": "jtf6xqPi7_wL"
      },
      "outputs": [],
      "source": [
        "# class Net(nn.Module):\n",
        "#     def __init__(self):\n",
        "#         super(Net, self).__init__()\n",
        "#         self.h1 = nn.Linear(1 * 128 * 128, 64) \n",
        "#         self.h2 = nn.Linear(64, 128)  \n",
        "#         self.output = nn.Linear(128, 29)  \n",
        "#         self.dropout = nn.Dropout(0.3) \n",
        "\n",
        "#     def forward(self, x):\n",
        "#         x = x.view(-1, 1 * 128 * 128)\n",
        "#         x = F.relu(self.h1(x))\n",
        "#         x = F.relu(self.h2(x))\n",
        "#         x = self.dropout(self.output(x))\n",
        "\n",
        "#         return x"
      ]
    },
    {
      "cell_type": "code",
      "source": [
        "def conv_block(in_channels, out_channels, pool=False):\n",
        "    layers = [nn.Conv2d(in_channels, out_channels, kernel_size=3, padding=1), \n",
        "              nn.BatchNorm2d(out_channels), \n",
        "              nn.ReLU(inplace=True)]\n",
        "    if pool: layers.append(nn.MaxPool2d(2))\n",
        "    return nn.Sequential(*layers)\n",
        "\n",
        "class ResNet9(nn.Module):\n",
        "    def __init__(self):\n",
        "        super().__init__()\n",
        "        self.conv1 = conv_block(1, 64) \n",
        "        self.conv2 = conv_block(64, 128, pool=True) \n",
        "        self.res1 = nn.Sequential(conv_block(128, 128),  \n",
        "                                  conv_block(128, 128))  \n",
        "        \n",
        "        self.conv3 = conv_block(128, 256, pool=True)\n",
        "        self.conv4 = conv_block(256, 512, pool=True)\n",
        "        self.res2 = nn.Sequential(conv_block(512, 512), \n",
        "                                  conv_block(512, 512)) \n",
        "        \n",
        "        self.classifier = nn.Sequential(nn.AdaptiveMaxPool2d(1), \n",
        "                                        nn.Flatten(),\n",
        "                                        nn.Dropout(0.2),\n",
        "                                        nn.Linear(512, 29))\n",
        "        \n",
        "    def forward(self, xb):\n",
        "        out = self.conv1(xb)\n",
        "        out = self.conv2(out)\n",
        "        out = self.res1(out) + out\n",
        "        out = self.conv3(out)\n",
        "        out = self.conv4(out)\n",
        "        out = self.res2(out) + out\n",
        "        out = self.classifier(out)\n",
        "        return out"
      ],
      "metadata": {
        "id": "mgJnpqpGatdc"
      },
      "execution_count": null,
      "outputs": []
    },
    {
      "cell_type": "code",
      "execution_count": null,
      "metadata": {
        "colab": {
          "base_uri": "https://localhost:8080/"
        },
        "id": "gRGINxt6NP2h",
        "outputId": "20a6d909-9f69-4d66-ad3d-8a7783aa1823"
      },
      "outputs": [
        {
          "output_type": "execute_result",
          "data": {
            "text/plain": [
              "ResNet9(\n",
              "  (conv1): Sequential(\n",
              "    (0): Conv2d(1, 64, kernel_size=(3, 3), stride=(1, 1), padding=(1, 1))\n",
              "    (1): BatchNorm2d(64, eps=1e-05, momentum=0.1, affine=True, track_running_stats=True)\n",
              "    (2): ReLU(inplace=True)\n",
              "  )\n",
              "  (conv2): Sequential(\n",
              "    (0): Conv2d(64, 128, kernel_size=(3, 3), stride=(1, 1), padding=(1, 1))\n",
              "    (1): BatchNorm2d(128, eps=1e-05, momentum=0.1, affine=True, track_running_stats=True)\n",
              "    (2): ReLU(inplace=True)\n",
              "    (3): MaxPool2d(kernel_size=2, stride=2, padding=0, dilation=1, ceil_mode=False)\n",
              "  )\n",
              "  (res1): Sequential(\n",
              "    (0): Sequential(\n",
              "      (0): Conv2d(128, 128, kernel_size=(3, 3), stride=(1, 1), padding=(1, 1))\n",
              "      (1): BatchNorm2d(128, eps=1e-05, momentum=0.1, affine=True, track_running_stats=True)\n",
              "      (2): ReLU(inplace=True)\n",
              "    )\n",
              "    (1): Sequential(\n",
              "      (0): Conv2d(128, 128, kernel_size=(3, 3), stride=(1, 1), padding=(1, 1))\n",
              "      (1): BatchNorm2d(128, eps=1e-05, momentum=0.1, affine=True, track_running_stats=True)\n",
              "      (2): ReLU(inplace=True)\n",
              "    )\n",
              "  )\n",
              "  (conv3): Sequential(\n",
              "    (0): Conv2d(128, 256, kernel_size=(3, 3), stride=(1, 1), padding=(1, 1))\n",
              "    (1): BatchNorm2d(256, eps=1e-05, momentum=0.1, affine=True, track_running_stats=True)\n",
              "    (2): ReLU(inplace=True)\n",
              "    (3): MaxPool2d(kernel_size=2, stride=2, padding=0, dilation=1, ceil_mode=False)\n",
              "  )\n",
              "  (conv4): Sequential(\n",
              "    (0): Conv2d(256, 512, kernel_size=(3, 3), stride=(1, 1), padding=(1, 1))\n",
              "    (1): BatchNorm2d(512, eps=1e-05, momentum=0.1, affine=True, track_running_stats=True)\n",
              "    (2): ReLU(inplace=True)\n",
              "    (3): MaxPool2d(kernel_size=2, stride=2, padding=0, dilation=1, ceil_mode=False)\n",
              "  )\n",
              "  (res2): Sequential(\n",
              "    (0): Sequential(\n",
              "      (0): Conv2d(512, 512, kernel_size=(3, 3), stride=(1, 1), padding=(1, 1))\n",
              "      (1): BatchNorm2d(512, eps=1e-05, momentum=0.1, affine=True, track_running_stats=True)\n",
              "      (2): ReLU(inplace=True)\n",
              "    )\n",
              "    (1): Sequential(\n",
              "      (0): Conv2d(512, 512, kernel_size=(3, 3), stride=(1, 1), padding=(1, 1))\n",
              "      (1): BatchNorm2d(512, eps=1e-05, momentum=0.1, affine=True, track_running_stats=True)\n",
              "      (2): ReLU(inplace=True)\n",
              "    )\n",
              "  )\n",
              "  (classifier): Sequential(\n",
              "    (0): AdaptiveMaxPool2d(output_size=1)\n",
              "    (1): Flatten(start_dim=1, end_dim=-1)\n",
              "    (2): Dropout(p=0.2, inplace=False)\n",
              "    (3): Linear(in_features=512, out_features=29, bias=True)\n",
              "  )\n",
              ")"
            ]
          },
          "metadata": {},
          "execution_count": 20
        }
      ],
      "source": [
        "num_epochs = 10\n",
        "\n",
        "net = ResNet9()\n",
        "net.to(device)"
      ]
    },
    {
      "cell_type": "code",
      "execution_count": null,
      "metadata": {
        "id": "8l2HRKiENWZC"
      },
      "outputs": [],
      "source": [
        "criterion = nn.CrossEntropyLoss()\n",
        "optimizer = torch.optim.Adam(net.parameters(), lr=0.001, weight_decay=1e-4)\n",
        "scheduler = optim.lr_scheduler.ReduceLROnPlateau(optimizer, mode='max', patience=5, factor=0.1, verbose=True, cooldown=10)"
      ]
    },
    {
      "cell_type": "code",
      "execution_count": null,
      "metadata": {
        "colab": {
          "base_uri": "https://localhost:8080/"
        },
        "id": "ST_TIVfGNW-5",
        "outputId": "1329f1ea-45c8-4f20-f57b-01a608ff10fa"
      },
      "outputs": [
        {
          "output_type": "stream",
          "name": "stderr",
          "text": [
            " 10%|█         | 1/10 [10:24<1:33:37, 624.13s/it]"
          ]
        },
        {
          "output_type": "stream",
          "name": "stdout",
          "text": [
            "Epoch 1 , Training acc: 76.932471, Validation acc: 99.678161\n"
          ]
        },
        {
          "output_type": "stream",
          "name": "stderr",
          "text": [
            "\r 20%|██        | 2/10 [20:13<1:20:27, 603.49s/it]"
          ]
        },
        {
          "output_type": "stream",
          "name": "stdout",
          "text": [
            "Epoch 2 , Training acc: 73.087644, Validation acc: 99.379310\n"
          ]
        },
        {
          "output_type": "stream",
          "name": "stderr",
          "text": [
            "\r 30%|███       | 3/10 [30:02<1:09:38, 596.86s/it]"
          ]
        },
        {
          "output_type": "stream",
          "name": "stdout",
          "text": [
            "Epoch 3 , Training acc: 99.021552, Validation acc: 99.787356\n"
          ]
        },
        {
          "output_type": "stream",
          "name": "stderr",
          "text": [
            "\r 40%|████      | 4/10 [39:51<59:22, 593.82s/it]  "
          ]
        },
        {
          "output_type": "stream",
          "name": "stdout",
          "text": [
            "Epoch 4 , Training acc: 99.448276, Validation acc: 99.683908\n"
          ]
        },
        {
          "output_type": "stream",
          "name": "stderr",
          "text": [
            "\r 50%|█████     | 5/10 [49:40<49:21, 592.28s/it]"
          ]
        },
        {
          "output_type": "stream",
          "name": "stdout",
          "text": [
            "Epoch 5 , Training acc: 99.481322, Validation acc: 99.517241\n"
          ]
        },
        {
          "output_type": "stream",
          "name": "stderr",
          "text": [
            "\r 60%|██████    | 6/10 [59:31<39:27, 591.89s/it]"
          ]
        },
        {
          "output_type": "stream",
          "name": "stdout",
          "text": [
            "Epoch 6 , Training acc: 99.574713, Validation acc: 98.413793\n"
          ]
        },
        {
          "output_type": "stream",
          "name": "stderr",
          "text": [
            "\r 70%|███████   | 7/10 [1:09:24<29:36, 592.26s/it]"
          ]
        },
        {
          "output_type": "stream",
          "name": "stdout",
          "text": [
            "Epoch 7 , Training acc: 99.525862, Validation acc: 99.902299\n"
          ]
        },
        {
          "output_type": "stream",
          "name": "stderr",
          "text": [
            "\r 80%|████████  | 8/10 [1:19:20<19:46, 593.18s/it]"
          ]
        },
        {
          "output_type": "stream",
          "name": "stdout",
          "text": [
            "Epoch 8 , Training acc: 99.683908, Validation acc: 99.942529\n"
          ]
        },
        {
          "output_type": "stream",
          "name": "stderr",
          "text": [
            "\r 90%|█████████ | 9/10 [1:29:15<09:53, 593.90s/it]"
          ]
        },
        {
          "output_type": "stream",
          "name": "stdout",
          "text": [
            "Epoch 9 , Training acc: 99.750000, Validation acc: 99.816092\n"
          ]
        },
        {
          "output_type": "stream",
          "name": "stderr",
          "text": [
            "100%|██████████| 10/10 [1:39:10<00:00, 595.06s/it]"
          ]
        },
        {
          "output_type": "stream",
          "name": "stdout",
          "text": [
            "Epoch 10 , Training acc: 99.715517, Validation acc: 99.798851\n"
          ]
        },
        {
          "output_type": "stream",
          "name": "stderr",
          "text": [
            "\n"
          ]
        }
      ],
      "source": [
        "max_accuracy = 0\n",
        "train_losses = []\n",
        "val_losses = []\n",
        "acc_values=[]\n",
        "val_accs=[]\n",
        "for epoch in tqdm(range(num_epochs)):\n",
        "    correct = 0\n",
        "    correct_val=0\n",
        "    start_time = time.time()\n",
        "    train_loss = 0.0\n",
        "    valid_loss = 0.0 \n",
        "    \n",
        "    for i, data in enumerate(train, 0):\n",
        "        inputs, labels = data\n",
        "        inputs, labels = inputs.to(device), labels.to(device)\n",
        "        optimizer.zero_grad()\n",
        "        outputs = net(inputs)\n",
        "        loss = criterion(outputs, labels)\n",
        "        loss.backward()\n",
        "        optimizer.step()\n",
        "        train_loss += loss.item() \n",
        "        predictions = torch.max(outputs,1)[1]\n",
        "        correct+=(predictions==labels).sum().cpu().numpy()\n",
        "\n",
        "    with torch.no_grad():\n",
        "        for i, data in enumerate(val, 0):\n",
        "            val_inputs, val_labels = data\n",
        "            val_inputs, val_labels = val_inputs.to(device), val_labels.to(device)\n",
        "            net.eval()\n",
        "            val_preds = net(val_inputs)\n",
        "            loss = criterion(val_preds, val_labels)\n",
        "            valid_loss += loss.item()\n",
        "            val_predictions = torch.max(val_preds, 1)[1]\n",
        "            correct_val+=(val_predictions==val_labels).sum().cpu().numpy()\n",
        "\n",
        "    acc = 100*correct/len(train.dataset)\n",
        "    acc_values.append(acc)\n",
        "\n",
        "    val_acc = 100*correct_val/len(val.dataset)\n",
        "    val_accs.append(val_acc)\n",
        "\n",
        "    train_losses.append(train_loss/len(train.dataset))\n",
        "    val_losses.append(valid_loss/ len(val.dataset))\n",
        "\n",
        "    print('Epoch %s , Training acc: %f, Validation acc: %f' %(epoch+1, acc, val_acc))"
      ]
    },
    {
      "cell_type": "code",
      "source": [
        "fig, _ = plt.subplots(1, 2)\n",
        "fig.set_size_inches(16, 6)\n",
        "\n",
        "fig.axes[0].plot(train_losses, label=\"training\")\n",
        "fig.axes[0].plot(val_losses, label=\"validation\")\n",
        "fig.axes[0].set_title(\"Training and Validation Loss\")\n",
        "fig.axes[0].legend()\n",
        "fig.axes[1].plot(acc_values, label=\"training\")\n",
        "fig.axes[1].plot(val_accs, label=\"validation\")\n",
        "fig.axes[1].set_title(\"Training and Validation Accuracy\")\n",
        "fig.axes[1].legend()"
      ],
      "metadata": {
        "id": "BbFkueA2KOD-",
        "colab": {
          "base_uri": "https://localhost:8080/",
          "height": 407
        },
        "outputId": "7ea08975-5034-4a93-ead5-4ac538850cd5"
      },
      "execution_count": null,
      "outputs": [
        {
          "output_type": "execute_result",
          "data": {
            "text/plain": [
              "<matplotlib.legend.Legend at 0x7f31199b3ed0>"
            ]
          },
          "metadata": {},
          "execution_count": 19
        },
        {
          "output_type": "display_data",
          "data": {
            "text/plain": [
              "<Figure size 1152x432 with 2 Axes>"
            ],
            "image/png": "[encoded data removed]"
          },
          "metadata": {
            "needs_background": "light"
          }
        }
      ]
    },
    {
      "cell_type": "code",
      "source": [
        "torch.save(net.state_dict(), 'linear.pth')"
      ],
      "metadata": {
        "id": "9-6b1n05O8OP"
      },
      "execution_count": null,
      "outputs": []
    },
    {
      "cell_type": "code",
      "source": [
        "import shutil\n",
        "import os"
      ],
      "metadata": {
        "id": "XKT8aJWKk5yR"
      },
      "execution_count": null,
      "outputs": []
    },
    {
      "cell_type": "code",
      "source": [
        "train_dir = \"/content/asl-alphabet/asl_alphabet_train/asl_alphabet_train\"\n",
        "test_dir = \"/content/asl-alphabet/asl_alphabet_test/asl_alphabet_test_reorg\"\n",
        "\n",
        "if not os.path.exists(test_dir):\n",
        "  os.makedirs(test_dir)"
      ],
      "metadata": {
        "id": "f6fKnxZClTfD"
      },
      "execution_count": null,
      "outputs": []
    },
    {
      "cell_type": "code",
      "source": [
        "old_train_dir = \"/content/asl-alphabet/asl_alphabet_test/asl_alphabet_test\"\n",
        "\n",
        "for img in os.listdir(old_train_dir):\n",
        "  if not img.endswith(\"jpg\"):\n",
        "    continue\n",
        "\n",
        "  cl = img.split('_')[0]\n",
        "  \n",
        "  shutil.copy(\n",
        "      os.path.join(old_train_dir, img),\n",
        "      os.path.join(test_dir, cl, img)\n",
        "      )"
      ],
      "metadata": {
        "id": "smoMw9rEmq4b"
      },
      "execution_count": null,
      "outputs": []
    },
    {
      "cell_type": "code",
      "source": [
        "test_classes = [d for d in os.listdir(train_dir) if os.path.isdir(os.path.join(train_dir, d))]\n",
        "\n",
        "for cl in test_classes:\n",
        "  os.makedirs(os.path.join(test_dir, cl))"
      ],
      "metadata": {
        "id": "77tGv4G9lusT"
      },
      "execution_count": null,
      "outputs": []
    },
    {
      "cell_type": "code",
      "source": [
        "shutil.copy(\"/content/asl-alphabet/asl_alphabet_train/asl_alphabet_train/del/del1.jpg\",\n",
        "            \"/content/asl-alphabet/asl_alphabet_test/asl_alphabet_test_reorg/del\"\n",
        "            )"
      ],
      "metadata": {
        "colab": {
          "base_uri": "https://localhost:8080/",
          "height": 37
        },
        "id": "YC1ONuEhprhi",
        "outputId": "33392a08-4326-48f8-fefe-393c035d57a6"
      },
      "execution_count": null,
      "outputs": [
        {
          "output_type": "execute_result",
          "data": {
            "text/plain": [
              "'/content/asl-alphabet/asl_alphabet_test/asl_alphabet_test_reorg/del/del1.jpg'"
            ],
            "application/vnd.google.colaboratory.intrinsic+json": {
              "type": "string"
            }
          },
          "metadata": {},
          "execution_count": 51
        }
      ]
    },
    {
      "cell_type": "code",
      "source": [
        "data_dir = '/content/asl-alphabet/asl_alphabet_test'\n",
        "test_data = ImageFolder(\"/content/asl-alphabet/asl_alphabet_test/asl_alphabet_test_reorg\", tt.Compose([tt.Resize(128),\n",
        "                                            tt.RandomCrop(128),\n",
        "                                            tt.Grayscale(1),\n",
        "                                            tt.ToTensor()]))\n",
        "test = DataLoader(test_data)\n",
        "correct=[]\n",
        "wrong=[]\n",
        "with torch.no_grad():\n",
        "  correct_val=0\n",
        "  for i, data in enumerate(test, 0):\n",
        "    test_inputs, test_labels = data\n",
        "    test_inputs, test_labels = test_inputs.to(device), test_labels.to(device)\n",
        "    net.eval()\n",
        "    test_preds = net(test_inputs)\n",
        "    test_predictions = torch.max(test_preds, 1)[1]\n",
        "    correct_val+=(test_predictions==test_labels).sum().cpu().numpy()\n",
        "    if test_predictions==test_labels:\n",
        "      correct.append(i)\n",
        "    else:\n",
        "      wrong.append(i)\n",
        "\n",
        "print(\"The test accuracy over %s samples is %f\" %(len(test), correct_val/len(test.dataset)*100))"
      ],
      "metadata": {
        "id": "jlFihIwWKJSa",
        "colab": {
          "base_uri": "https://localhost:8080/"
        },
        "outputId": "efd6a427-91e3-4140-fa68-841b0876b5cf"
      },
      "execution_count": null,
      "outputs": [
        {
          "output_type": "stream",
          "name": "stdout",
          "text": [
            "The test accuracy over 29 samples is 100.000000\n"
          ]
        }
      ]
    },
    {
      "cell_type": "code",
      "source": [
        "test_predictions"
      ],
      "metadata": {
        "colab": {
          "base_uri": "https://localhost:8080/"
        },
        "id": "oV8Cz3YPkUg8",
        "outputId": "52abf491-c8b4-465a-ece6-82398f41e8e7"
      },
      "execution_count": null,
      "outputs": [
        {
          "output_type": "execute_result",
          "data": {
            "text/plain": [
              "tensor([28], device='cuda:0')"
            ]
          },
          "metadata": {},
          "execution_count": 33
        }
      ]
    },
    {
      "cell_type": "code",
      "source": [
        "torch.save(net.state_dict(), 'resnet.pth')"
      ],
      "metadata": {
        "id": "Y0zqkJsFkK52"
      },
      "execution_count": null,
      "outputs": []
    },
    {
      "cell_type": "code",
      "source": [
        "net = ResNet9()\n",
        "net.load_state_dict(torch.load(\"/content/resnet.pth\"))\n",
        "net.cuda()\n",
        "net.eval()"
      ],
      "metadata": {
        "colab": {
          "base_uri": "https://localhost:8080/"
        },
        "id": "VQQbs1_j1qg0",
        "outputId": "4205af77-37e7-4480-f0fd-f8a60280a888"
      },
      "execution_count": null,
      "outputs": [
        {
          "output_type": "execute_result",
          "data": {
            "text/plain": [
              "ResNet9(\n",
              "  (conv1): Sequential(\n",
              "    (0): Conv2d(1, 64, kernel_size=(3, 3), stride=(1, 1), padding=(1, 1))\n",
              "    (1): BatchNorm2d(64, eps=1e-05, momentum=0.1, affine=True, track_running_stats=True)\n",
              "    (2): ReLU(inplace=True)\n",
              "  )\n",
              "  (conv2): Sequential(\n",
              "    (0): Conv2d(64, 128, kernel_size=(3, 3), stride=(1, 1), padding=(1, 1))\n",
              "    (1): BatchNorm2d(128, eps=1e-05, momentum=0.1, affine=True, track_running_stats=True)\n",
              "    (2): ReLU(inplace=True)\n",
              "    (3): MaxPool2d(kernel_size=2, stride=2, padding=0, dilation=1, ceil_mode=False)\n",
              "  )\n",
              "  (res1): Sequential(\n",
              "    (0): Sequential(\n",
              "      (0): Conv2d(128, 128, kernel_size=(3, 3), stride=(1, 1), padding=(1, 1))\n",
              "      (1): BatchNorm2d(128, eps=1e-05, momentum=0.1, affine=True, track_running_stats=True)\n",
              "      (2): ReLU(inplace=True)\n",
              "    )\n",
              "    (1): Sequential(\n",
              "      (0): Conv2d(128, 128, kernel_size=(3, 3), stride=(1, 1), padding=(1, 1))\n",
              "      (1): BatchNorm2d(128, eps=1e-05, momentum=0.1, affine=True, track_running_stats=True)\n",
              "      (2): ReLU(inplace=True)\n",
              "    )\n",
              "  )\n",
              "  (conv3): Sequential(\n",
              "    (0): Conv2d(128, 256, kernel_size=(3, 3), stride=(1, 1), padding=(1, 1))\n",
              "    (1): BatchNorm2d(256, eps=1e-05, momentum=0.1, affine=True, track_running_stats=True)\n",
              "    (2): ReLU(inplace=True)\n",
              "    (3): MaxPool2d(kernel_size=2, stride=2, padding=0, dilation=1, ceil_mode=False)\n",
              "  )\n",
              "  (conv4): Sequential(\n",
              "    (0): Conv2d(256, 512, kernel_size=(3, 3), stride=(1, 1), padding=(1, 1))\n",
              "    (1): BatchNorm2d(512, eps=1e-05, momentum=0.1, affine=True, track_running_stats=True)\n",
              "    (2): ReLU(inplace=True)\n",
              "    (3): MaxPool2d(kernel_size=2, stride=2, padding=0, dilation=1, ceil_mode=False)\n",
              "  )\n",
              "  (res2): Sequential(\n",
              "    (0): Sequential(\n",
              "      (0): Conv2d(512, 512, kernel_size=(3, 3), stride=(1, 1), padding=(1, 1))\n",
              "      (1): BatchNorm2d(512, eps=1e-05, momentum=0.1, affine=True, track_running_stats=True)\n",
              "      (2): ReLU(inplace=True)\n",
              "    )\n",
              "    (1): Sequential(\n",
              "      (0): Conv2d(512, 512, kernel_size=(3, 3), stride=(1, 1), padding=(1, 1))\n",
              "      (1): BatchNorm2d(512, eps=1e-05, momentum=0.1, affine=True, track_running_stats=True)\n",
              "      (2): ReLU(inplace=True)\n",
              "    )\n",
              "  )\n",
              "  (classifier): Sequential(\n",
              "    (0): AdaptiveMaxPool2d(output_size=1)\n",
              "    (1): Flatten(start_dim=1, end_dim=-1)\n",
              "    (2): Dropout(p=0.2, inplace=False)\n",
              "    (3): Linear(in_features=512, out_features=29, bias=True)\n",
              "  )\n",
              ")"
            ]
          },
          "metadata": {},
          "execution_count": 22
        }
      ]
    },
    {
      "cell_type": "code",
      "source": [
        ""
      ],
      "metadata": {
        "id": "AB-5-eLgrAAy"
      },
      "execution_count": null,
      "outputs": []
    }
  ],
  "metadata": {
    "accelerator": "GPU",
    "colab": {
      "collapsed_sections": [],
      "name": "EE541 Project- ResNet.ipynb",
      "provenance": []
    },
    "kernelspec": {
      "display_name": "Python 3",
      "name": "python3"
    },
    "language_info": {
      "name": "python"
    }
  },
  "nbformat": 4,
  "nbformat_minor": 0
}